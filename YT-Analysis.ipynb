{
 "cells": [
  {
   "cell_type": "code",
   "execution_count": null,
   "id": "83757b8b",
   "metadata": {},
   "outputs": [],
   "source": [
    "from googleapiclient.discovery import build\n",
    "import pandas as pd\n",
    "import seaborn as sns"
   ]
  },
  {
   "cell_type": "code",
   "execution_count": null,
   "id": "5bfb48a9",
   "metadata": {},
   "outputs": [],
   "source": [
    "api_key = 'your_key_here'\n",
    "\n",
    "\n",
    "channel_ids = [ \n",
    "                \n",
    "                'UCLLw7jmFsvfIVaUFsLs8mlQ', # Luke Barousse\n",
    "                'UCiT9RITQ9PW6BhXK0y2jaeg', # Ken Jee\n",
    "                'UCBwmMxybNva6P_5VmxjzwqA', # Apna College\n",
    "                'UC2UXDak6o7rBm23k3Vv5dww'  # Tina Huang\n",
    "              ]\n",
    "# get yt service based on that we raise request to API\n",
    "\n",
    "# get service \n",
    "youtube = build(\"youtube\", \"v3\", developerKey=api_key )"
   ]
  },
  {
   "cell_type": "markdown",
   "id": "de2ded26",
   "metadata": {},
   "source": [
    "#### extract channels details\n",
    "### Function to get channel statistic\n"
   ]
  },
  {
   "cell_type": "code",
   "execution_count": null,
   "id": "9624eafe",
   "metadata": {},
   "outputs": [],
   "source": [
    "def get_channel_stats(youtube,channel_ids):\n",
    "    all_data=[]\n",
    "    request = youtube.channels().list(\n",
    "                part='snippet,contentDetails,statistics',\n",
    "                id=','.join(channel_ids))\n",
    "    responce = request.execute()\n",
    "    print(\"Returned channel IDs:\", [item['id'] for item in responce['items']])\n",
    "\n",
    "    for i in range(len(responce['items'])):\n",
    "        try:\n",
    "            data = dict(Channel_name = responce['items'][i]['snippet']['title'],\n",
    "                        Subscribers = responce['items'][i]['statistics']['subscriberCount'],\n",
    "                        Views = responce['items'][i]['statistics']['viewCount'],\n",
    "                        Total_videos = responce['items'][i]['statistics']['videoCount'],\n",
    "                        playlist_id = responce['items'][i]['contentDetails']['relatedPlaylists']['uploads']\n",
    "                        )\n",
    "            all_data.append(data)\n",
    "        except KeyError as e:\n",
    "            print(f\"Error fetching data for one channel: {e}\")\n",
    "            continue\n",
    "    return all_data"
   ]
  },
  {
   "cell_type": "code",
   "execution_count": null,
   "id": "0988cb39",
   "metadata": {},
   "outputs": [],
   "source": [
    "channel_statistics = get_channel_stats(youtube,channel_ids)"
   ]
  },
  {
   "cell_type": "markdown",
   "id": "44a7646c",
   "metadata": {},
   "source": [
    "### Load data into Dataframe for Visuallization"
   ]
  },
  {
   "cell_type": "code",
   "execution_count": null,
   "id": "7ab8cca3",
   "metadata": {},
   "outputs": [],
   "source": [
    "channel_data = pd.DataFrame(channel_statistics)\n",
    "# channel_data"
   ]
  },
  {
   "cell_type": "code",
   "execution_count": null,
   "id": "27a998c3",
   "metadata": {},
   "outputs": [],
   "source": [
    "# Convert [ Object --> Int]\n",
    "channel_data['Subscribers'] = pd.to_numeric(channel_data['Subscribers'])\n",
    "channel_data['Views'] = pd.to_numeric(channel_data['Views'])\n",
    "channel_data['Total_videos'] = pd.to_numeric(channel_data['Total_videos'])\n",
    "channel_data.dtypes"
   ]
  },
  {
   "cell_type": "code",
   "execution_count": null,
   "id": "9b759486",
   "metadata": {},
   "outputs": [],
   "source": [
    "# increase size\n",
    "sns.set(rc={'figure.figsize':(10,8)})\n",
    "ax =sns.barplot(x='Channel_name',y='Subscribers',data=channel_data)"
   ]
  },
  {
   "cell_type": "code",
   "execution_count": null,
   "id": "f11caf38",
   "metadata": {},
   "outputs": [],
   "source": [
    "ax =sns.barplot(x='Channel_name',y='Views',data=channel_data)"
   ]
  },
  {
   "cell_type": "code",
   "execution_count": null,
   "id": "7357f156",
   "metadata": {},
   "outputs": [],
   "source": [
    "ax =sns.barplot(x='Channel_name',y='Total_videos',data=channel_data)"
   ]
  },
  {
   "cell_type": "code",
   "execution_count": null,
   "id": "39b6239d",
   "metadata": {},
   "outputs": [],
   "source": [
    "# write function to extract playlist_id from dataframe n load\n",
    "playlist_id = channel_data.loc[channel_data['Channel_name']=='Apna College','playlist_id'].iloc[0]\n",
    "playlist_id"
   ]
  },
  {
   "cell_type": "code",
   "execution_count": null,
   "id": "2d665533",
   "metadata": {},
   "outputs": [],
   "source": [
    "# Write function to fetch video id's\n",
    "# then write another function to ectract video info\n",
    "\n",
    "def get_video_ids(youtube,playlist_id):\n",
    "    request = youtube.playlistItems().list(\n",
    "                part='contentDetails',\n",
    "                playlistId = playlist_id,\n",
    "                maxResults = 50\n",
    "                )\n",
    "    responce= request.execute()\n",
    "    return responce"
   ]
  },
  {
   "cell_type": "code",
   "execution_count": null,
   "id": "517c01c9",
   "metadata": {},
   "outputs": [],
   "source": [
    "def get_video_ids(youtube,playlist_id):\n",
    "    request = youtube.playlistItems().list(\n",
    "                part='contentDetails',\n",
    "                playlistId = playlist_id,\n",
    "                maxResults = 50\n",
    "                )\n",
    "    responce= request.execute()\n",
    "\n",
    "    video_ids=[]\n",
    "\n",
    "    for i in range(len(responce['items'])):\n",
    "        video_ids.append(responce['items'][i]['contentDetails']['videoId'])\n",
    "    \n",
    "    next_page_token =responce.get('nextPageToken')\n",
    "    more_pages =True\n",
    "\n",
    "    while more_pages:\n",
    "        if next_page_token is None:\n",
    "            more_pages =False\n",
    "        else:\n",
    "            request = youtube.playlistItems().list(\n",
    "                part='contentDetails',\n",
    "                playlistId = playlist_id,\n",
    "                maxResults = 50,\n",
    "                pageToken = next_page_token)\n",
    "            responce= request.execute()\n",
    "\n",
    "            for i in range(len(responce['items'])):\n",
    "                video_ids.append(responce['items'][i]['contentDetails']['videoId'])\n",
    "\n",
    "            next_page_token = responce.get('nextPageToken')\n",
    "\n",
    "    # return responce\n",
    "    return video_ids\n",
    "    # return len(video_ids)"
   ]
  },
  {
   "cell_type": "code",
   "execution_count": null,
   "id": "7a320fba",
   "metadata": {},
   "outputs": [],
   "source": [
    "video_ids = get_video_ids(youtube,playlist_id)"
   ]
  },
  {
   "cell_type": "code",
   "execution_count": null,
   "id": "87c9f33e",
   "metadata": {},
   "outputs": [],
   "source": [
    "def get_video_details(youtube, video_ids):\n",
    "    if not isinstance(video_ids, (list, tuple)):\n",
    "        raise TypeError(\"video_ids must be a list or tuple of video ID strings.\")\n",
    "    \n",
    "    all_video_stats=[]\n",
    "\n",
    "    for i in range(0,len(video_ids),50):\n",
    "        request = youtube.videos().list(\n",
    "                    part='snippet,statistics',\n",
    "                    id= ','.join(video_ids[i:i+50]))\n",
    "        responce = request.execute()\n",
    "\n",
    "        for video in responce['items']:\n",
    "            video_stats = dict(Title= video['snippet']['title'],\n",
    "                               published_date = video['snippet']['publishedAt'],\n",
    "                            #    Views= video['statistics']['viewCount'],\n",
    "                               Likes= video['statistics']['likeCount'],\n",
    "                               favourite= video['statistics']['favoriteCount'],\n",
    "                               Comments= video['statistics']['commentCount'],\n",
    "                               )\n",
    "            all_video_stats.append(video_stats)\n",
    "\n",
    "    # return len(all_video_stats)\n",
    "    return all_video_stats\n"
   ]
  },
  {
   "cell_type": "code",
   "execution_count": null,
   "id": "e68b46f9",
   "metadata": {},
   "outputs": [],
   "source": [
    "video_details = get_video_details(youtube, video_ids)"
   ]
  },
  {
   "cell_type": "code",
   "execution_count": null,
   "id": "c68b19f7",
   "metadata": {},
   "outputs": [],
   "source": [
    "video_data = pd.DataFrame(video_details)\n",
    "# video_data"
   ]
  },
  {
   "cell_type": "code",
   "execution_count": null,
   "id": "d0751053",
   "metadata": {},
   "outputs": [],
   "source": [
    "video_data['published_date']= pd.to_datetime(video_data['published_date']).dt.date\n",
    "# video_data['Views']=pd.to_numeric(video_data['Views'])\n",
    "video_data['Likes']=pd.to_numeric(video_data['Likes'])\n",
    "video_data['favourite']=pd.to_numeric(video_data['favourite'])\n",
    "video_data['Comments']=pd.to_numeric(video_data['Comments'])\n",
    "video_data"
   ]
  },
  {
   "cell_type": "code",
   "execution_count": null,
   "id": "be76677d",
   "metadata": {},
   "outputs": [],
   "source": [
    "ax1 = sns.barplot(x='Views',y='Title',data= top10_videos)"
   ]
  },
  {
   "cell_type": "code",
   "execution_count": null,
   "id": "847068b1",
   "metadata": {},
   "outputs": [],
   "source": [
    "video_data.to_csv('video_details(Apna College).csv')"
   ]
  }
 ],
 "metadata": {
  "language_info": {
   "name": "python"
  }
 },
 "nbformat": 4,
 "nbformat_minor": 5
}
